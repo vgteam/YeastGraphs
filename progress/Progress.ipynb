{
 "cells": [
  {
   "cell_type": "markdown",
   "metadata": {},
   "source": [
    "# Construction"
   ]
  },
  {
   "cell_type": "markdown",
   "metadata": {},
   "source": [
    "### Whole genome"
   ]
  },
  {
   "cell_type": "markdown",
   "metadata": {},
   "source": [
    "Make an output folder"
   ]
  },
  {
   "cell_type": "code",
   "execution_count": null,
   "metadata": {
    "collapsed": true
   },
   "outputs": [],
   "source": [
    "!mkdir output"
   ]
  },
  {
   "cell_type": "markdown",
   "metadata": {},
   "source": [
    "Construct a graph from the yeast data with a maximum node sequence size of 1000 "
   ]
  },
  {
   "cell_type": "code",
   "execution_count": 4,
   "metadata": {
    "collapsed": false
   },
   "outputs": [],
   "source": [
    "!vg construct -r data/SGD_2010.fasta \\\n",
    "    -v data/SGRP2-cerevisiae-freebayes-snps-Q30-GQ30.vcf.gz \\\n",
    "    -m 1000 -a > output/yeastgraph.vg\n"
   ]
  },
  {
   "cell_type": "markdown",
   "metadata": {},
   "source": [
    "Investigate the graphs statistics, this graph has 714603 nodes and 969760 edges."
   ]
  },
  {
   "cell_type": "code",
   "execution_count": 5,
   "metadata": {
    "collapsed": false
   },
   "outputs": [
    {
     "name": "stdout",
     "output_type": "stream",
     "text": [
      "nodes\t714603\r\n",
      "edges\t969760\r\n"
     ]
    }
   ],
   "source": [
    "!vg stats -z output/yeastgraph.vg"
   ]
  },
  {
   "cell_type": "markdown",
   "metadata": {},
   "source": [
    "### Each chromosome"
   ]
  },
  {
   "cell_type": "markdown",
   "metadata": {},
   "source": [
    "Make a chromosomes folder"
   ]
  },
  {
   "cell_type": "code",
   "execution_count": 15,
   "metadata": {
    "collapsed": true
   },
   "outputs": [],
   "source": [
    "!mkdir output/chromosomes"
   ]
  },
  {
   "cell_type": "markdown",
   "metadata": {},
   "source": [
    "Get chromosome names from the VCF file"
   ]
  },
  {
   "cell_type": "code",
   "execution_count": 9,
   "metadata": {
    "collapsed": false
   },
   "outputs": [],
   "source": [
    "!zgrep -v \"#\" data/SGRP2-cerevisiae-freebayes-snps-Q30-GQ30.vcf.gz \\\n",
    "| cut -f1 | uniq > chromosomes.txt"
   ]
  },
  {
   "cell_type": "markdown",
   "metadata": {},
   "source": [
    "Construct a graph for each chromosome with a maximum node sequence size of 1000"
   ]
  },
  {
   "cell_type": "code",
   "execution_count": 16,
   "metadata": {
    "collapsed": false
   },
   "outputs": [],
   "source": [
    "!for chrom in $(cat chromosomes.txt); \\\n",
    "    do vg construct -r data/SGD_2010.fasta \\\n",
    "    -v data/SGRP2-cerevisiae-freebayes-snps-Q30-GQ30.vcf.gz \\\n",
    "    -m 1000 -R $chrom -a > output/chromosomes/yeastgraph${chrom}.vg; \\\n",
    "done\n"
   ]
  },
  {
   "cell_type": "markdown",
   "metadata": {},
   "source": [
    "Show statistics for first five chromosome graphs"
   ]
  },
  {
   "cell_type": "code",
   "execution_count": 19,
   "metadata": {
    "collapsed": false
   },
   "outputs": [
    {
     "name": "stdout",
     "output_type": "stream",
     "text": [
      "chr1:\n",
      "nodes\t24288\n",
      "edges\t33786\n",
      "chr2:\n",
      "nodes\t46685\n",
      "edges\t63193\n",
      "chr3:\n",
      "nodes\t21108\n",
      "edges\t28659\n",
      "chr4:\n",
      "nodes\t86116\n",
      "edges\t116698\n",
      "chr5:\n",
      "nodes\t30962\n",
      "edges\t41874\n"
     ]
    }
   ],
   "source": [
    "!for chrom in $(cat chromosomes.txt | head -5); \\\n",
    "    do echo $chrom: ; vg stats -z output/chromosomes/yeastgraph$chrom.vg; \\\n",
    "done\n"
   ]
  },
  {
   "cell_type": "markdown",
   "metadata": {},
   "source": [
    "# Pruning\n"
   ]
  },
  {
   "cell_type": "markdown",
   "metadata": {},
   "source": [
    "Unable to immediately index the graph, and unable to prune the entire graph. Therefore need to prune chromosome by chromosome\n"
   ]
  },
  {
   "cell_type": "code",
   "execution_count": null,
   "metadata": {
    "collapsed": true
   },
   "outputs": [],
   "source": [
    "#Doesn't complete\n",
    "!vg mod -pl 16 -e 3 -t 4 output/yeastgraph.vg \\ \n",
    "    | vg mod -S -l 32 -t 4 - \\\n",
    "    > output/yeastgraphpruned.vg;\n"
   ]
  },
  {
   "cell_type": "markdown",
   "metadata": {},
   "source": [
    "Prune each chromosome"
   ]
  },
  {
   "cell_type": "code",
   "execution_count": 20,
   "metadata": {
    "collapsed": true
   },
   "outputs": [],
   "source": [
    "!for chrom in $(cat chromosomes.txt); \\\n",
    "    do vg mod -pl 16 -e 3 -t 16 \\\n",
    "    output/chromosomes/yeastgraph${chrom}.vg \\\n",
    "    | vg mod -S -l 32  - \\\n",
    "    > output/chromosomes/yeastgraph${chrom}pruned.vg; \\\n",
    "done"
   ]
  },
  {
   "cell_type": "markdown",
   "metadata": {},
   "source": [
    "Notice the result of pruning"
   ]
  },
  {
   "cell_type": "code",
   "execution_count": 21,
   "metadata": {
    "collapsed": false
   },
   "outputs": [
    {
     "name": "stdout",
     "output_type": "stream",
     "text": [
      "chr1\n",
      "nodes\t15751\n",
      "edges\t20970\n",
      "chr2\n",
      "nodes\t43218\n",
      "edges\t57993\n",
      "chr3\n",
      "nodes\t19296\n",
      "edges\t25864\n",
      "chr4\n",
      "nodes\t78802\n",
      "edges\t105634\n",
      "chr5\n",
      "nodes\t28944\n",
      "edges\t38813\n"
     ]
    }
   ],
   "source": [
    "!for chrom in $(cat chromosomes.txt | head -5); \\\n",
    "    do echo $chrom; \\\n",
    "    vg stats -z output/chromosomes/yeastgraph${chrom}pruned.vg; \\\n",
    "done\n"
   ]
  },
  {
   "cell_type": "markdown",
   "metadata": {},
   "source": [
    "Now index each chromosome"
   ]
  },
  {
   "cell_type": "code",
   "execution_count": 22,
   "metadata": {
    "collapsed": false
   },
   "outputs": [
    {
     "name": "stdout",
     "output_type": "stream",
     "text": [
      "chr1\n",
      "chr2\n",
      "chr3\n",
      "chr4\n",
      "chr5\n",
      "chr6\n",
      "chr7\n",
      "chr8\n",
      "chr9\n",
      "chr10\n",
      "chr11\n",
      "chr12\n",
      "chr13\n",
      "chr14\n",
      "chr15\n",
      "chr16\n"
     ]
    }
   ],
   "source": [
    "!for chrom in $(cat chromosomes.txt); \\\n",
    "    do   echo $chrom; \\\n",
    "         vg index -x output/chromosomes/yeastgraph${chrom}pruned.xg \\\n",
    "         -g output/chromosomes/yeastgraph${chrom}pruned.gcsa \\\n",
    "         -k 16 \\\n",
    "         -t 4 \\\n",
    "         output/chromosomes/yeastgraph${chrom}pruned.vg; \\\n",
    "done\n"
   ]
  },
  {
   "cell_type": "markdown",
   "metadata": {},
   "source": [
    "Put chromosome data in different chromosome files"
   ]
  },
  {
   "cell_type": "code",
   "execution_count": null,
   "metadata": {
    "collapsed": true
   },
   "outputs": [],
   "source": [
    "!for chrom in $(cat chromosomes.txt); \\\n",
    "    do mkdir output/chromosomes/$chrom; \\\n",
    "    mv output/chromosomes/yeastgraph${chrom}pruned.xg \\\n",
    "        output/chromosomes/$chrom; \\\n",
    "    mv output/chromosomes/yeastgraph${chrom}pruned.gcsa \\\n",
    "        output/chromosomes/$chrom; \\\n",
    "    mv output/chromosomes/yeastgraph${chrom}pruned.vg \\\n",
    "        output/chromosomes/$chrom; \\\n",
    "    mv output/chromosomes/yeastgraph${chrom}.vg \\\n",
    "        output/chromosomes/$chrom; \\\n",
    "done"
   ]
  },
  {
   "cell_type": "markdown",
   "metadata": {},
   "source": [
    "Simulate 1 read of length 20 with and error rate of 0.05 and an indel frequency rate of 0.02"
   ]
  },
  {
   "cell_type": "code",
   "execution_count": 158,
   "metadata": {
    "collapsed": false
   },
   "outputs": [],
   "source": [
    "!vg sim -l 20 -n 1 -e 0.05 -i 0.02 \\\n",
    "    output/chromosomes/chr1/yeastgraphchr1.vg \\\n",
    "    > output/chromosomes/chr1/simulate.reads"
   ]
  },
  {
   "cell_type": "code",
   "execution_count": 159,
   "metadata": {
    "collapsed": false,
    "scrolled": true
   },
   "outputs": [
    {
     "name": "stdout",
     "output_type": "stream",
     "text": [
      "TACAGCAGATTCGAGTTTTT\r\n"
     ]
    }
   ],
   "source": [
    "!cat output/chromosomes/chr1/simulate.reads"
   ]
  },
  {
   "cell_type": "markdown",
   "metadata": {},
   "source": [
    "Map these reads to the graph"
   ]
  },
  {
   "cell_type": "code",
   "execution_count": 160,
   "metadata": {
    "collapsed": false
   },
   "outputs": [],
   "source": [
    "!vg map -r output/chromosomes/chr1/simulate.reads \\\n",
    "    -x output/chromosomes/chr1/yeastgraphchr1pruned.xg \\\n",
    "    -g output/chromosomes/chr1/yeastgraphchr1pruned.gcsa \\\n",
    "    -k 22 \\\n",
    "    > output/chromosomes/chr1/mappedreads.gam\n"
   ]
  },
  {
   "cell_type": "markdown",
   "metadata": {},
   "source": [
    "View the alignment information"
   ]
  },
  {
   "cell_type": "code",
   "execution_count": 172,
   "metadata": {
    "collapsed": false
   },
   "outputs": [
    {
     "name": "stdout",
     "output_type": "stream",
     "text": [
      "{\"sequence\": \"TACAGCAGATTCGAGTTTTT\", \"path\": {\"mapping\": [{\"position\": {\"node_id\": 6912}, \"edit\": [{\"from_length\": 1, \"to_length\": 1}], \"rank\": 1}, {\"position\": {\"node_id\": 6914}, \"edit\": [{\"from_length\": 8, \"to_length\": 8}], \"rank\": 2}, {\"position\": {\"node_id\": 6916}, \"edit\": [{\"from_length\": 1, \"to_length\": 1}], \"rank\": 3}, {\"position\": {\"node_id\": 6917}, \"edit\": [{\"from_length\": 10, \"to_length\": 10}], \"rank\": 4}]}, \"score\": 40}\r\n"
     ]
    }
   ],
   "source": [
    "!vg view -a output/chromosomes/chr1/mappedreads.gam"
   ]
  },
  {
   "cell_type": "markdown",
   "metadata": {},
   "source": [
    "Find the alignment node and display the alignment."
   ]
  },
  {
   "cell_type": "code",
   "execution_count": 173,
   "metadata": {
    "collapsed": false
   },
   "outputs": [],
   "source": [
    "!vg find -n 6915 -c 5 \\\n",
    "    -x output/chromosomes/chr1/yeastgraphchr1pruned.xg \\\n",
    "    -g output/chromosomes/chr1/yeastgraphchr1pruned.gcsa \\\n",
    "    | vg view -d -A output/chromosomes/chr1/mappedreads.gam - | dot -Tsvg > test.svg\n"
   ]
  },
  {
   "cell_type": "code",
   "execution_count": 170,
   "metadata": {
    "collapsed": false,
    "scrolled": false
   },
   "outputs": [
    {
     "data": {
      "text/html": [
       "<?xml version=\"1.0\" encoding=\"UTF-8\" standalone=\"no\"?>\n",
       "<!DOCTYPE svg PUBLIC \"-//W3C//DTD SVG 1.1//EN\"\n",
       " \"http://www.w3.org/Graphics/SVG/1.1/DTD/svg11.dtd\">\n",
       "<!-- Generated by graphviz version 2.36.0 (20140111.2315)\n",
       " -->\n",
       "<!-- Title: graphname Pages: 1 -->\n",
       "<svg width=\"2946pt\" height=\"169pt\"\n",
       " viewBox=\"0.00 0.00 2946.00 169.00\" xmlns=\"http://www.w3.org/2000/svg\" xmlns:xlink=\"http://www.w3.org/1999/xlink\">\n",
       "<g id=\"graph0\" class=\"graph\" transform=\"scale(1 1) rotate(0) translate(4 165)\">\n",
       "<title>graphname</title>\n",
       "<polygon fill=\"white\" stroke=\"none\" points=\"-4,4 -4,-165 2942,-165 2942,4 -4,4\"/>\n",
       "<!-- 6915 -->\n",
       "<g id=\"node1\" class=\"node\"><title>6915</title>\n",
       "<polygon fill=\"none\" stroke=\"black\" stroke-width=\"2\" points=\"1696,-36 1638,-36 1638,-0 1696,-0 1696,-36\"/>\n",
       "<text text-anchor=\"middle\" x=\"1667\" y=\"-14.3\" font-family=\"Times,serif\" font-size=\"14.00\">6915:C</text>\n",
       "</g>\n",
       "<!-- 6917 -->\n",
       "<g id=\"node3\" class=\"node\"><title>6917</title>\n",
       "<polygon fill=\"none\" stroke=\"black\" stroke-width=\"2\" points=\"2143.5,-49 1814.5,-49 1814.5,-13 2143.5,-13 2143.5,-49\"/>\n",
       "<text text-anchor=\"middle\" x=\"1979\" y=\"-27.3\" font-family=\"Times,serif\" font-size=\"14.00\">6917:TCGAGTTTTTATCTTTCAAAGGAAATAATT</text>\n",
       "</g>\n",
       "<!-- 6915&#45;&gt;6917 -->\n",
       "<g id=\"edge1\" class=\"edge\"><title>6915:ne&#45;&gt;6917:nw</title>\n",
       "<path fill=\"none\" stroke=\"black\" stroke-width=\"2\" d=\"M1695,-36C1708.12,-49.1186 1759.56,-42.9756 1778,-45 1794,-46.7566 1802.62,-60.3833 1814,-49\"/>\n",
       "</g>\n",
       "<!-- 6914 -->\n",
       "<g id=\"node2\" class=\"node\"><title>6914</title>\n",
       "<polygon fill=\"none\" stroke=\"black\" stroke-width=\"2\" points=\"1473,-80 1345,-80 1345,-44 1473,-44 1473,-80\"/>\n",
       "<text text-anchor=\"middle\" x=\"1409\" y=\"-58.3\" font-family=\"Times,serif\" font-size=\"14.00\">6914:ACAGCAGA</text>\n",
       "</g>\n",
       "<!-- 6914&#45;&gt;6915 -->\n",
       "<g id=\"edge2\" class=\"edge\"><title>6914:ne&#45;&gt;6915:nw</title>\n",
       "<path fill=\"none\" stroke=\"black\" stroke-width=\"2\" d=\"M1472,-80C1500.6,-108.599 1516.84,-55.1128 1556,-45 1573.54,-40.4715 1624.19,-48.8062 1637,-36\"/>\n",
       "</g>\n",
       "<!-- 6916 -->\n",
       "<g id=\"node6\" class=\"node\"><title>6916</title>\n",
       "<polygon fill=\"none\" stroke=\"black\" stroke-width=\"2\" points=\"1695.5,-90 1638.5,-90 1638.5,-54 1695.5,-54 1695.5,-90\"/>\n",
       "<text text-anchor=\"middle\" x=\"1667\" y=\"-68.3\" font-family=\"Times,serif\" font-size=\"14.00\">6916:T</text>\n",
       "</g>\n",
       "<!-- 6914&#45;&gt;6916 -->\n",
       "<g id=\"edge3\" class=\"edge\"><title>6914:ne&#45;&gt;6916:nw</title>\n",
       "<path fill=\"none\" stroke=\"black\" stroke-width=\"2\" d=\"M1472,-80C1497.97,-105.975 1611.03,-115.975 1637,-90\"/>\n",
       "</g>\n",
       "<!-- 6918 -->\n",
       "<g id=\"node7\" class=\"node\"><title>6918</title>\n",
       "<polygon fill=\"none\" stroke=\"black\" stroke-width=\"2\" points=\"2239.5,-43 2180.5,-43 2180.5,-7 2239.5,-7 2239.5,-43\"/>\n",
       "<text text-anchor=\"middle\" x=\"2210\" y=\"-21.3\" font-family=\"Times,serif\" font-size=\"14.00\">6918:G</text>\n",
       "</g>\n",
       "<!-- 6917&#45;&gt;6918 -->\n",
       "<g id=\"edge4\" class=\"edge\"><title>6917:ne&#45;&gt;6918:nw</title>\n",
       "<path fill=\"none\" stroke=\"black\" stroke-width=\"2\" d=\"M2143,-49C2154.78,-60.7799 2168.22,-54.7799 2180,-43\"/>\n",
       "</g>\n",
       "<!-- 6919 -->\n",
       "<g id=\"node8\" class=\"node\"><title>6919</title>\n",
       "<polygon fill=\"none\" stroke=\"black\" stroke-width=\"2\" points=\"2239,-97 2181,-97 2181,-61 2239,-61 2239,-97\"/>\n",
       "<text text-anchor=\"middle\" x=\"2210\" y=\"-75.3\" font-family=\"Times,serif\" font-size=\"14.00\">6919:C</text>\n",
       "</g>\n",
       "<!-- 6917&#45;&gt;6919 -->\n",
       "<g id=\"edge5\" class=\"edge\"><title>6917:ne&#45;&gt;6919:nw</title>\n",
       "<path fill=\"none\" stroke=\"black\" stroke-width=\"2\" d=\"M2143,-49C2162.05,-68.0464 2160.95,-116.046 2180,-97\"/>\n",
       "</g>\n",
       "<!-- 6912 -->\n",
       "<g id=\"node4\" class=\"node\"><title>6912</title>\n",
       "<polygon fill=\"none\" stroke=\"black\" stroke-width=\"2\" points=\"1179.5,-53 1122.5,-53 1122.5,-17 1179.5,-17 1179.5,-53\"/>\n",
       "<text text-anchor=\"middle\" x=\"1151\" y=\"-31.3\" font-family=\"Times,serif\" font-size=\"14.00\">6912:T</text>\n",
       "</g>\n",
       "<!-- 6912&#45;&gt;6914 -->\n",
       "<g id=\"edge6\" class=\"edge\"><title>6912:ne&#45;&gt;6914:nw</title>\n",
       "<path fill=\"none\" stroke=\"black\" stroke-width=\"2\" d=\"M1179,-53C1192.12,-66.1186 1243.69,-59.0067 1262,-62 1298.82,-68.0199 1317.62,-106.384 1344,-80\"/>\n",
       "</g>\n",
       "<!-- 6913 -->\n",
       "<g id=\"node5\" class=\"node\"><title>6913</title>\n",
       "<polygon fill=\"none\" stroke=\"black\" stroke-width=\"2\" points=\"1180,-107 1122,-107 1122,-71 1180,-71 1180,-107\"/>\n",
       "<text text-anchor=\"middle\" x=\"1151\" y=\"-85.3\" font-family=\"Times,serif\" font-size=\"14.00\">6913:C</text>\n",
       "</g>\n",
       "<!-- 6913&#45;&gt;6914 -->\n",
       "<g id=\"edge7\" class=\"edge\"><title>6913:ne&#45;&gt;6914:nw</title>\n",
       "<path fill=\"none\" stroke=\"black\" stroke-width=\"2\" d=\"M1179,-107C1192.14,-120.136 1330.86,-93.136 1344,-80\"/>\n",
       "</g>\n",
       "<!-- 6916&#45;&gt;6917 -->\n",
       "<g id=\"edge8\" class=\"edge\"><title>6916:ne&#45;&gt;6917:nw</title>\n",
       "<path fill=\"none\" stroke=\"black\" stroke-width=\"2\" d=\"M1695,-90C1734.56,-129.556 1774.44,-88.5556 1814,-49\"/>\n",
       "</g>\n",
       "<!-- 6920 -->\n",
       "<g id=\"node10\" class=\"node\"><title>6920</title>\n",
       "<polygon fill=\"none\" stroke=\"black\" stroke-width=\"2\" points=\"2392,-70 2276,-70 2276,-34 2392,-34 2392,-70\"/>\n",
       "<text text-anchor=\"middle\" x=\"2334\" y=\"-48.3\" font-family=\"Times,serif\" font-size=\"14.00\">6920:ATAAATA</text>\n",
       "</g>\n",
       "<!-- 6918&#45;&gt;6920 -->\n",
       "<g id=\"edge9\" class=\"edge\"><title>6918:ne&#45;&gt;6920:nw</title>\n",
       "<path fill=\"none\" stroke=\"black\" stroke-width=\"2\" d=\"M2239,-43C2253.39,-57.3948 2261.61,-84.3948 2276,-70\"/>\n",
       "</g>\n",
       "<!-- 6919&#45;&gt;6920 -->\n",
       "<g id=\"edge10\" class=\"edge\"><title>6919:ne&#45;&gt;6920:nw</title>\n",
       "<path fill=\"none\" stroke=\"black\" stroke-width=\"2\" d=\"M2238,-97C2252.65,-111.65 2261.35,-84.6498 2276,-70\"/>\n",
       "</g>\n",
       "<!-- 6911 -->\n",
       "<g id=\"node9\" class=\"node\"><title>6911</title>\n",
       "<polygon fill=\"none\" stroke=\"black\" stroke-width=\"2\" points=\"1003.5,-80 766.5,-80 766.5,-44 1003.5,-44 1003.5,-80\"/>\n",
       "<text text-anchor=\"middle\" x=\"885\" y=\"-58.3\" font-family=\"Times,serif\" font-size=\"14.00\">6911:ATAAGGTTTTTAGATCATAG</text>\n",
       "</g>\n",
       "<!-- 6911&#45;&gt;6912 -->\n",
       "<g id=\"edge11\" class=\"edge\"><title>6911:ne&#45;&gt;6912:nw</title>\n",
       "<path fill=\"none\" stroke=\"black\" stroke-width=\"2\" d=\"M1003,-80C1015.93,-92.931 1022.43,-67.0839 1040,-62 1057.4,-56.9651 1108.19,-65.8062 1121,-53\"/>\n",
       "</g>\n",
       "<!-- 6911&#45;&gt;6913 -->\n",
       "<g id=\"edge12\" class=\"edge\"><title>6911:ne&#45;&gt;6913:nw</title>\n",
       "<path fill=\"none\" stroke=\"black\" stroke-width=\"2\" d=\"M1003,-80C1022.02,-99.0211 1101.98,-126.021 1121,-107\"/>\n",
       "</g>\n",
       "<!-- 6921 -->\n",
       "<g id=\"node13\" class=\"node\"><title>6921</title>\n",
       "<polygon fill=\"none\" stroke=\"black\" stroke-width=\"2\" points=\"2486,-97 2428,-97 2428,-61 2486,-61 2486,-97\"/>\n",
       "<text text-anchor=\"middle\" x=\"2457\" y=\"-75.3\" font-family=\"Times,serif\" font-size=\"14.00\">6921:C</text>\n",
       "</g>\n",
       "<!-- 6920&#45;&gt;6921 -->\n",
       "<g id=\"edge13\" class=\"edge\"><title>6920:ne&#45;&gt;6921:nw</title>\n",
       "<path fill=\"none\" stroke=\"black\" stroke-width=\"2\" d=\"M2391,-70C2405.39,-84.3948 2413.61,-111.395 2428,-97\"/>\n",
       "</g>\n",
       "<!-- 6922 -->\n",
       "<g id=\"node14\" class=\"node\"><title>6922</title>\n",
       "<polygon fill=\"none\" stroke=\"black\" stroke-width=\"2\" points=\"2485.5,-43 2428.5,-43 2428.5,-7 2485.5,-7 2485.5,-43\"/>\n",
       "<text text-anchor=\"middle\" x=\"2457\" y=\"-21.3\" font-family=\"Times,serif\" font-size=\"14.00\">6922:T</text>\n",
       "</g>\n",
       "<!-- 6920&#45;&gt;6922 -->\n",
       "<g id=\"edge14\" class=\"edge\"><title>6920:ne&#45;&gt;6922:nw</title>\n",
       "<path fill=\"none\" stroke=\"black\" stroke-width=\"2\" d=\"M2391,-70C2405.39,-84.3948 2413.61,-57.3948 2428,-43\"/>\n",
       "</g>\n",
       "<!-- 6909 -->\n",
       "<g id=\"node11\" class=\"node\"><title>6909</title>\n",
       "<polygon fill=\"none\" stroke=\"black\" stroke-width=\"2\" points=\"729.5,-40 670.5,-40 670.5,-4 729.5,-4 729.5,-40\"/>\n",
       "<text text-anchor=\"middle\" x=\"700\" y=\"-18.3\" font-family=\"Times,serif\" font-size=\"14.00\">6909:A</text>\n",
       "</g>\n",
       "<!-- 6909&#45;&gt;6911 -->\n",
       "<g id=\"edge15\" class=\"edge\"><title>6909:ne&#45;&gt;6911:nw</title>\n",
       "<path fill=\"none\" stroke=\"black\" stroke-width=\"2\" d=\"M729,-40C746.124,-57.1241 748.876,-97.1241 766,-80\"/>\n",
       "</g>\n",
       "<!-- 6910 -->\n",
       "<g id=\"node12\" class=\"node\"><title>6910</title>\n",
       "<polygon fill=\"none\" stroke=\"black\" stroke-width=\"2\" points=\"729,-94 671,-94 671,-58 729,-58 729,-94\"/>\n",
       "<text text-anchor=\"middle\" x=\"700\" y=\"-72.3\" font-family=\"Times,serif\" font-size=\"14.00\">6910:C</text>\n",
       "</g>\n",
       "<!-- 6910&#45;&gt;6911 -->\n",
       "<g id=\"edge16\" class=\"edge\"><title>6910:ne&#45;&gt;6911:nw</title>\n",
       "<path fill=\"none\" stroke=\"black\" stroke-width=\"2\" d=\"M728,-94C740.727,-106.727 753.273,-92.727 766,-80\"/>\n",
       "</g>\n",
       "<!-- 6923 -->\n",
       "<g id=\"node16\" class=\"node\"><title>6923</title>\n",
       "<polygon fill=\"none\" stroke=\"black\" stroke-width=\"2\" points=\"2938,-70 2522,-70 2522,-34 2938,-34 2938,-70\"/>\n",
       "<text text-anchor=\"middle\" x=\"2730\" y=\"-48.3\" font-family=\"Times,serif\" font-size=\"14.00\">6923:CCAATACCGAACGATTTTATTTTATTGAGTCAAAGATGT</text>\n",
       "</g>\n",
       "<!-- 6921&#45;&gt;6923 -->\n",
       "<g id=\"edge17\" class=\"edge\"><title>6921:ne&#45;&gt;6923:nw</title>\n",
       "<path fill=\"none\" stroke=\"black\" stroke-width=\"2\" d=\"M2485,-97C2499.39,-111.395 2507.61,-84.3948 2522,-70\"/>\n",
       "</g>\n",
       "<!-- 6922&#45;&gt;6923 -->\n",
       "<g id=\"edge18\" class=\"edge\"><title>6922:ne&#45;&gt;6923:nw</title>\n",
       "<path fill=\"none\" stroke=\"black\" stroke-width=\"2\" d=\"M2485,-43C2499.39,-57.3948 2507.61,-84.3948 2522,-70\"/>\n",
       "</g>\n",
       "<!-- 6908 -->\n",
       "<g id=\"node15\" class=\"node\"><title>6908</title>\n",
       "<polygon fill=\"none\" stroke=\"black\" stroke-width=\"2\" points=\"633.5,-67 0.5,-67 0.5,-31 633.5,-31 633.5,-67\"/>\n",
       "<text text-anchor=\"middle\" x=\"317\" y=\"-45.3\" font-family=\"Times,serif\" font-size=\"14.00\">6908:TTGAGAGCTAAGGTGGAAAACTTGAGTCTTCTATTGGTTATCTTGAAACTCTCATACATGTC</text>\n",
       "</g>\n",
       "<!-- 6908&#45;&gt;6909 -->\n",
       "<g id=\"edge19\" class=\"edge\"><title>6908:ne&#45;&gt;6909:nw</title>\n",
       "<path fill=\"none\" stroke=\"black\" stroke-width=\"2\" d=\"M633,-67C647.395,-81.3948 655.605,-54.3948 670,-40\"/>\n",
       "</g>\n",
       "<!-- 6908&#45;&gt;6910 -->\n",
       "<g id=\"edge20\" class=\"edge\"><title>6908:ne&#45;&gt;6910:nw</title>\n",
       "<path fill=\"none\" stroke=\"black\" stroke-width=\"2\" d=\"M633,-67C647.395,-81.3948 655.605,-108.395 670,-94\"/>\n",
       "</g>\n",
       "<!-- 6924 -->\n",
       "<g id=\"node17\" class=\"node\"><title>6924</title>\n",
       "</g>\n",
       "<!-- 6925 -->\n",
       "<g id=\"node18\" class=\"node\"><title>6925</title>\n",
       "<text text-anchor=\"middle\" x=\"885\" y=\"-139.3\" font-family=\"Times,serif\" font-size=\"14.00\" fill=\"green\">+</text>\n",
       "</g>\n",
       "<!-- 6924&#45;&gt;6925 -->\n",
       "<g id=\"edge21\" class=\"edge\"><title>6924&#45;&gt;6925</title>\n",
       "<path fill=\"none\" stroke=\"black\" d=\"M727.219,-143C762.008,-143 823.065,-143 857.829,-143\"/>\n",
       "</g>\n",
       "<!-- 6926 -->\n",
       "<g id=\"node19\" class=\"node\"><title>6926</title>\n",
       "<text text-anchor=\"middle\" x=\"1151\" y=\"-146\" font-family=\"Times,serif\" font-size=\"10.00\" fill=\"blue\">{position: {node_id: 6912}, edit: [{from_length: 1,</text>\n",
       "<text text-anchor=\"middle\" x=\"1151\" y=\"-135\" font-family=\"Times,serif\" font-size=\"10.00\" fill=\"blue\">to_length: 1}], rank: 1}</text>\n",
       "</g>\n",
       "<!-- 6925&#45;&gt;6926 -->\n",
       "<g id=\"edge22\" class=\"edge\"><title>6925&#45;&gt;6926</title>\n",
       "<path fill=\"none\" stroke=\"green\" d=\"M912.278,-143C942.145,-143 992.85,-143 1039.78,-143\"/>\n",
       "</g>\n",
       "<!-- 6926&#45;&gt;6912 -->\n",
       "<!-- 6927 -->\n",
       "<g id=\"node20\" class=\"node\"><title>6927</title>\n",
       "<text text-anchor=\"middle\" x=\"1409\" y=\"-146\" font-family=\"Times,serif\" font-size=\"10.00\" fill=\"blue\">{position: {node_id: 6914}, edit: [{from_length: 8,</text>\n",
       "<text text-anchor=\"middle\" x=\"1409\" y=\"-135\" font-family=\"Times,serif\" font-size=\"10.00\" fill=\"blue\">to_length: 8}], rank: 2}</text>\n",
       "</g>\n",
       "<!-- 6926&#45;&gt;6927 -->\n",
       "<g id=\"edge24\" class=\"edge\"><title>6926&#45;&gt;6927</title>\n",
       "<path fill=\"none\" stroke=\"black\" d=\"M1262.05,-143C1273.84,-143 1285.84,-143 1297.63,-143\"/>\n",
       "</g>\n",
       "<!-- 6927&#45;&gt;6914 -->\n",
       "<!-- 6928 -->\n",
       "<g id=\"node21\" class=\"node\"><title>6928</title>\n",
       "<text text-anchor=\"middle\" x=\"1667\" y=\"-146\" font-family=\"Times,serif\" font-size=\"10.00\" fill=\"blue\">{position: {node_id: 6916}, edit: [{from_length: 1,</text>\n",
       "<text text-anchor=\"middle\" x=\"1667\" y=\"-135\" font-family=\"Times,serif\" font-size=\"10.00\" fill=\"blue\">to_length: 1}], rank: 3}</text>\n",
       "</g>\n",
       "<!-- 6927&#45;&gt;6928 -->\n",
       "<g id=\"edge26\" class=\"edge\"><title>6927&#45;&gt;6928</title>\n",
       "<path fill=\"none\" stroke=\"black\" d=\"M1520.05,-143C1531.84,-143 1543.84,-143 1555.63,-143\"/>\n",
       "</g>\n",
       "<!-- 6928&#45;&gt;6916 -->\n",
       "<!-- 6929 -->\n",
       "<g id=\"node22\" class=\"node\"><title>6929</title>\n",
       "<text text-anchor=\"middle\" x=\"1979\" y=\"-146\" font-family=\"Times,serif\" font-size=\"10.00\" fill=\"blue\">{position: {node_id: 6917}, edit: [{from_length: 10,</text>\n",
       "<text text-anchor=\"middle\" x=\"1979\" y=\"-135\" font-family=\"Times,serif\" font-size=\"10.00\" fill=\"blue\">to_length: 10}], rank: 4}</text>\n",
       "</g>\n",
       "<!-- 6928&#45;&gt;6929 -->\n",
       "<g id=\"edge28\" class=\"edge\"><title>6928&#45;&gt;6929</title>\n",
       "<path fill=\"none\" stroke=\"black\" d=\"M1778.17,-143C1806.45,-143 1836.91,-143 1865.31,-143\"/>\n",
       "</g>\n",
       "<!-- 6929&#45;&gt;6917 -->\n",
       "<!-- 6930 -->\n",
       "<g id=\"node23\" class=\"node\"><title>6930</title>\n",
       "<text text-anchor=\"middle\" x=\"2210\" y=\"-139.3\" font-family=\"Times,serif\" font-size=\"14.00\" fill=\"purple\">&#45;</text>\n",
       "</g>\n",
       "<!-- 6929&#45;&gt;6930 -->\n",
       "<g id=\"edge30\" class=\"edge\"><title>6929&#45;&gt;6930</title>\n",
       "<path fill=\"none\" stroke=\"purple\" d=\"M2092.82,-143C2126.47,-143 2160.3,-143 2182.71,-143\"/>\n",
       "</g>\n",
       "</g>\n",
       "</svg>\n"
      ],
      "text/plain": [
       "<IPython.core.display.HTML object>"
      ]
     },
     "metadata": {},
     "output_type": "display_data"
    }
   ],
   "source": [
    "%%HTML\n",
    "test.svg\n"
   ]
  }
 ],
 "metadata": {
  "kernelspec": {
   "display_name": "Python 2",
   "language": "python",
   "name": "python2"
  },
  "language_info": {
   "codemirror_mode": {
    "name": "ipython",
    "version": 2
   },
   "file_extension": ".py",
   "mimetype": "text/x-python",
   "name": "python",
   "nbconvert_exporter": "python",
   "pygments_lexer": "ipython2",
   "version": "2.7.11"
  }
 },
 "nbformat": 4,
 "nbformat_minor": 0
}
